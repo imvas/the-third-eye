{
 "cells": [
  {
   "cell_type": "code",
   "execution_count": 1,
   "metadata": {},
   "outputs": [],
   "source": [
    "import cv2\n",
    "import os\n",
    "from tqdm import tqdm"
   ]
  },
  {
   "cell_type": "code",
   "execution_count": 2,
   "metadata": {},
   "outputs": [],
   "source": [
    "root = '../video_feed/'"
   ]
  },
  {
   "cell_type": "code",
   "execution_count": 3,
   "metadata": {},
   "outputs": [],
   "source": [
    "classes = os.listdir(root)"
   ]
  },
  {
   "cell_type": "code",
   "execution_count": 4,
   "metadata": {},
   "outputs": [
    {
     "data": {
      "text/plain": [
       "['good_pose', 'look_back', 'phone_call', 'text_mobile']"
      ]
     },
     "execution_count": 4,
     "metadata": {},
     "output_type": "execute_result"
    }
   ],
   "source": [
    "classes"
   ]
  },
  {
   "cell_type": "code",
   "execution_count": 5,
   "metadata": {},
   "outputs": [],
   "source": [
    "vid_files_dict = {}\n",
    "for c in classes:\n",
    "    vid_files_dict[c] = os.listdir(os.path.join(root, c))"
   ]
  },
  {
   "cell_type": "code",
   "execution_count": 43,
   "metadata": {},
   "outputs": [],
   "source": [
    "def parse_video(path, index):\n",
    "    img_class = path.split('/')[2]\n",
    "    img_dest = '../data/'+img_class\n",
    "    img_count = 0\n",
    "    \n",
    "    #print(img_dest)\n",
    "    if not os.path.exists(img_dest):\n",
    "        os.mkdir(img_dest)\n",
    "    #print('loading video...', path)\n",
    "    test_cap = cv2.VideoCapture(path)\n",
    "    \n",
    "    ret, frame = test_cap.read()\n",
    "    \n",
    "    #print('reading video...')\n",
    "    #print(ret)\n",
    "    while ret:\n",
    "        cv2.imwrite(os.path.join(img_dest, img_class+ str(index)+ str(img_count)+ \".jpg\"), frame)\n",
    "            \n",
    "        #print('read image' + str(img_count))\n",
    "        img_count+=1\n",
    "        \n",
    "        if ret==True:\n",
    "            ret, frame = test_cap.read()\n",
    "    \n",
    "    return"
   ]
  },
  {
   "cell_type": "code",
   "execution_count": 44,
   "metadata": {},
   "outputs": [],
   "source": [
    "test_path = '../video_feed/text_mobile/text_1.mp4'"
   ]
  },
  {
   "cell_type": "code",
   "execution_count": 45,
   "metadata": {},
   "outputs": [],
   "source": [
    "def parse_all_videos(root, vid_files_dict):\n",
    "    for c in tqdm(vid_files_dict.keys()):\n",
    "        print('Reading for class...', c)\n",
    "        for idx, vid in enumerate(vid_files_dict[c]):\n",
    "            vid_path = os.path.join(root, c+'/'+vid)\n",
    "            print(vid_path)\n",
    "            parse_video(vid_path, idx)\n",
    "            #print(vid_path.split('/')[3])\n",
    "    print('Done!')\n",
    "    return"
   ]
  },
  {
   "cell_type": "code",
   "execution_count": 46,
   "metadata": {
    "scrolled": true
   },
   "outputs": [
    {
     "name": "stderr",
     "output_type": "stream",
     "text": [
      "\n",
      "  0%|                                                                                            | 0/4 [00:00<?, ?it/s]"
     ]
    },
    {
     "name": "stdout",
     "output_type": "stream",
     "text": [
      "Reading for class... look_back\n",
      "../video_feed/look_back/back6.mp4\n",
      "../video_feed/look_back/back7.mp4\n",
      "../video_feed/look_back/back8.mp4\n",
      "../video_feed/look_back/back_1.mp4\n",
      "../video_feed/look_back/back_2.mp4\n",
      "../video_feed/look_back/back_3.mp4\n",
      "../video_feed/look_back/back_4.mp4\n",
      "../video_feed/look_back/back_5.mp4\n"
     ]
    },
    {
     "name": "stderr",
     "output_type": "stream",
     "text": [
      "\n",
      " 25%|█████████████████████                                                               | 1/4 [01:07<03:23, 67.96s/it]"
     ]
    },
    {
     "name": "stdout",
     "output_type": "stream",
     "text": [
      "Reading for class... phone_call\n",
      "../video_feed/phone_call/call6.mp4\n",
      "../video_feed/phone_call/call7.mp4\n",
      "../video_feed/phone_call/call8.mp4\n",
      "../video_feed/phone_call/call_1.mp4\n",
      "../video_feed/phone_call/call_2.mp4\n",
      "../video_feed/phone_call/call_3.mp4\n",
      "../video_feed/phone_call/call_4.mp4\n",
      "../video_feed/phone_call/call_5.mp4\n"
     ]
    },
    {
     "name": "stderr",
     "output_type": "stream",
     "text": [
      "\n",
      " 50%|██████████████████████████████████████████                                          | 2/4 [02:22<02:20, 70.03s/it]"
     ]
    },
    {
     "name": "stdout",
     "output_type": "stream",
     "text": [
      "Reading for class... good_pose\n",
      "../video_feed/good_pose/good1.mp4\n",
      "../video_feed/good_pose/good2.mp4\n",
      "../video_feed/good_pose/good3.mp4\n",
      "../video_feed/good_pose/good4.mp4\n",
      "../video_feed/good_pose/good6.mp4\n",
      "../video_feed/good_pose/good7.mp4\n",
      "../video_feed/good_pose/good8.mp4\n",
      "../video_feed/good_pose/good_5.mp4\n"
     ]
    },
    {
     "name": "stderr",
     "output_type": "stream",
     "text": [
      "\n",
      " 75%|███████████████████████████████████████████████████████████████                     | 3/4 [03:46<01:14, 74.05s/it]"
     ]
    },
    {
     "name": "stdout",
     "output_type": "stream",
     "text": [
      "Reading for class... text_mobile\n",
      "../video_feed/text_mobile/text6.mp4\n",
      "../video_feed/text_mobile/text7.mp4\n",
      "../video_feed/text_mobile/text8.mp4\n",
      "../video_feed/text_mobile/text_1.mp4\n",
      "../video_feed/text_mobile/text_2.mp4\n",
      "../video_feed/text_mobile/text_3.mp4\n",
      "../video_feed/text_mobile/text_4.mp4\n",
      "../video_feed/text_mobile/text_5.mp4\n"
     ]
    },
    {
     "name": "stderr",
     "output_type": "stream",
     "text": [
      "\n",
      "100%|████████████████████████████████████████████████████████████████████████████████████| 4/4 [05:05<00:00, 75.53s/it]"
     ]
    },
    {
     "name": "stdout",
     "output_type": "stream",
     "text": [
      "Done!\n"
     ]
    }
   ],
   "source": [
    "parse_all_videos(root, vid_files_dict)"
   ]
  },
  {
   "cell_type": "code",
   "execution_count": null,
   "metadata": {},
   "outputs": [],
   "source": []
  }
 ],
 "metadata": {
  "kernelspec": {
   "display_name": "Python 3",
   "language": "python",
   "name": "python3"
  },
  "language_info": {
   "codemirror_mode": {
    "name": "ipython",
    "version": 3
   },
   "file_extension": ".py",
   "mimetype": "text/x-python",
   "name": "python",
   "nbconvert_exporter": "python",
   "pygments_lexer": "ipython3",
   "version": "3.5.5"
  }
 },
 "nbformat": 4,
 "nbformat_minor": 2
}
